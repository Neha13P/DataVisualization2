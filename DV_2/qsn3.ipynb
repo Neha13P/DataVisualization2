{
 "cells": [
  {
   "cell_type": "code",
   "execution_count": null,
   "id": "88ee02ad",
   "metadata": {
    "vscode": {
     "languageId": "plaintext"
    }
   },
   "outputs": [],
   "source": [
    "import pandas as pd\n",
    "from io import BytesIO\n",
    "import requests\n",
    "from zipfile import ZipFile\n",
    "from bokeh.io import output_notebook, show\n",
    "from bokeh.plotting import figure\n",
    "from bokeh.models import ColumnDataSource, HoverTool, WMTSTileSource\n",
    "import numpy as np\n",
    "\n",
    "output_notebook()\n",
    "\n",
    "url = \"https://simplemaps.com/static/data/world-cities/basic/simplemaps_worldcities_basicv1.75.zip\"\n",
    "response = requests.get(url)\n",
    "zip_file = ZipFile(BytesIO(response.content))\n",
    "\n",
    "with zip_file.open(\"worldcities.csv\") as file:\n",
    "    cities_data = pd.read_csv(file, usecols=[\"city\", \"lat\", \"lng\", \"country\"], nrows=500)\n",
    "\n",
    "def wgs84_to_web_mercator(lat, lon):\n",
    "    k = 6378137\n",
    "    x = lon * (k * np.pi / 180.0)\n",
    "    y = np.log(np.tan((90 + lat) * np.pi / 360.0)) * k\n",
    "    return x, y\n",
    "\n",
    "cities_data[\"x\"], cities_data[\"y\"] = wgs84_to_web_mercator(\n",
    "    cities_data[\"lat\"], cities_data[\"lng\"]\n",
    ")\n",
    "\n",
    "source = ColumnDataSource(data={\n",
    "    \"x\": cities_data[\"x\"],\n",
    "    \"y\": cities_data[\"y\"],\n",
    "    \"city\": cities_data[\"city\"],\n",
    "    \"country\": cities_data[\"country\"],\n",
    "})\n",
    "\n",
    "tile_provider_url = \"https://a.tile.openstreetmap.org/{z}/{x}/{y}.png\"\n",
    "tile_provider = WMTSTileSource(url=tile_provider_url)\n",
    "p = figure(\n",
    "    title=\"World Cities\",\n",
    "    x_axis_type=\"mercator\",\n",
    "    y_axis_type=\"mercator\",\n",
    "    width=900,\n",
    "    height=600,\n",
    "    tools=\"pan, wheel_zoom, reset, save\",\n",
    ")\n",
    "p.add_tile(tile_provider)\n",
    "\n",
    "p.circle(\n",
    "    x=\"x\",\n",
    "    y=\"y\",\n",
    "    size=6,\n",
    "    fill_color=\"blue\",\n",
    "    fill_alpha=0.6,\n",
    "    line_color=None,\n",
    "    source=source,\n",
    ")\n",
    "\n",
    "hover = HoverTool()\n",
    "hover.tooltips = [\n",
    "    (\"City\", \"@city\"),\n",
    "    (\"Country\", \"@country\"),\n",
    "]\n",
    "p.add_tools(hover)\n",
    "\n",
    "\n",
    "show(p)\n"
   ]
  }
 ],
 "metadata": {
  "kernelspec": {
   "display_name": "venv",
   "language": "python",
   "name": "python3"
  },
  "language_info": {
   "codemirror_mode": {
    "name": "ipython",
    "version": 3
   },
   "file_extension": ".py",
   "mimetype": "text/x-python",
   "name": "python",
   "nbconvert_exporter": "python",
   "pygments_lexer": "ipython3",
   "version": "3.12.3"
  }
 },
 "nbformat": 4,
 "nbformat_minor": 5
}
