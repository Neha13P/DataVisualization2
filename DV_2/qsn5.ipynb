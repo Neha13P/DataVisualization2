{
 "cells": [
  {
   "cell_type": "code",
   "execution_count": null,
   "id": "8c2fcce6-d890-4017-8ced-60f0b6919004",
   "metadata": {
    "vscode": {
     "languageId": "python"
    }
   },
   "outputs": [],
   "source": [
    "import requests\n",
    "from bs4 import BeautifulSoup \n",
    "from PIL import Image\n",
    "from io import BytesIO \n",
    "import os\n",
    "\n",
    "def download_image(image_url, save_path=\"downloaded_image.jpg\"): \n",
    "    print(f\"Downloading image from {image_url}...\")\n",
    "    response = requests.get(image_url) \n",
    "    if response.status_code == 200:\n",
    "        with open(save_path, \"wb\") as file: \n",
    "            file.write(response.content)\n",
    "        print(f\"Image saved to {save_path}\")\n",
    "        img = Image.open(BytesIO(response.content)) \n",
    "        img.show()\n",
    "    else:\n",
    "        print(f\"Failed to download image. Status code: {response.status_code}\")\n",
    "\n",
    "def parse_html(html_content):\n",
    "    print(\"\\nParsing HTML content...\")\n",
    "    soup = BeautifulSoup(html_content, \"html.parser\") \n",
    "    links = soup.find_all(\"a\")\n",
    "    for link in links[:10]: # Limit output for readability \n",
    "        print(f\"Link: {link.get('href')} Text: {link.text.strip()}\")\n",
    "\n",
    "def scrape_web_page(url, save_image=True):\n",
    "    print(f\"\\nScraping {url}...\") \n",
    "    response = requests.get(url)\n",
    "    if response.status_code == 200:\n",
    "        soup = BeautifulSoup(response.content, \"html.parser\") \n",
    "        img_tag = soup.find(\"img\") \n",
    "        if img_tag:\n",
    "            img_url = img_tag.get(\"src\")\n",
    "            if not img_url.startswith(\"http\"): \n",
    "                img_url = requests.compat.urljoin(url, img_url) \n",
    "            print(f\"Found image: {img_url}\")\n",
    " \n",
    "            if save_image:\n",
    "                download_image(img_url, save_path=\"scraped_image.jpg\")\n",
    "        else:\n",
    "                print(\"No image found on the page.\") \n",
    "    else:\n",
    "        print(f\"Failed to scrape the webpage. Status code: {response.status_code}\") \n",
    "\n",
    "if  name\t== \" main   \":\n",
    "\n",
    "image_url = \"https://www.python.org/static/community_logos/python-logo.png\" \n",
    "download_image(image_url)\n",
    "\n",
    "target_url = \"https://www.wikipedia.org/\" \n",
    "scrape_web_page(target_url)\n",
    "\n"
   ]
  }
 ],
 "metadata": {
  "kernelspec": {
   "display_name": "",
   "name": ""
  },
  "language_info": {
   "name": ""
  }
 },
 "nbformat": 4,
 "nbformat_minor": 5
}
