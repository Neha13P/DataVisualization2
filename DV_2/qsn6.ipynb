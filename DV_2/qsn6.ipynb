{
 "cells": [
  {
   "cell_type": "code",
   "execution_count": null,
   "id": "36403390-a9ee-40f0-9d77-a9110a951f6b",
   "metadata": {
    "vscode": {
     "languageId": "python"
    }
   },
   "outputs": [],
   "source": [
    "import requests\n",
    "import xml.etree.ElementTree as ET\n",
    "\n",
    "def send_request(url):\n",
    "    print(f\"Sending request to {url}...\") \n",
    "    response = requests.get(url)\n",
    "    if response.status_code == 200:\n",
    "        return response.text \n",
    "    else:\n",
    "        print(f\"Failed to retrieve data. HTTP Status: {response.status_code}\") \n",
    "        return None\n",
    "\n",
    "def parse_xml(xml_data):\n",
    "    print(\"\\nParsing the XML data...\") \n",
    "    try:\n",
    "        root = ET.fromstring(xml_data) \n",
    "        return root\n",
    "    except ET.ParseError as e: \n",
    "        print(f\"Error parsing XML: {e}\") \n",
    "        return None\n",
    "\n",
    "def extract_data(root):\n",
    "    print(\"\\nExtracting data from the XML...\") \n",
    "    if root is not None:\n",
    "        for city in root.findall(\".//city\"):\n",
    "            city_name = city.find(\"name\").text if city.find(\"name\") is not None else \"Unknown\" \n",
    "            temperature = city.find(\"temperature\").text if city.find(\"temperature\") is not None else\"N/A\"\n",
    "            print(f\"City: {city_name}, Temperature: {temperature}°C\")\n",
    "\n",
    "    else:\n",
    "        print(\"No data to extract.\")\n",
    "\n",
    "if  name\t== \" main \":\n",
    "weather_url = \"https://www.w3schools.com/xml/plant_catalog.xml\"\n",
    " \n",
    "xml_data = send_request(weather_url)\n",
    "\n",
    "root = parse_xml(xml_data)\n",
    "\n",
    "extract_data(root)\n"
   ]
  }
 ],
 "metadata": {
  "kernelspec": {
   "display_name": "",
   "name": ""
  },
  "language_info": {
   "name": ""
  }
 },
 "nbformat": 4,
 "nbformat_minor": 5
}
