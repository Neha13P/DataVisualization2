{
 "cells": [
  {
   "cell_type": "code",
   "execution_count": null,
   "id": "ae8bc235",
   "metadata": {},
   "outputs": [],
   "source": [
    "import seaborn as sns\n",
    "import matplotlib.pyplot as plt\n",
    "from sklearn.datasets import load_iris import pandas as pd\n",
    "\n",
    "iris=load_iris()\n",
    "iris_df = pd.DataFrame(data=iris.data, columns=iris.feature_names)\n",
    "\n",
    "x_feature = 'sepal length (cm)'\n",
    "y_feature = 'sepal width (cm)'\n",
    "\n",
    "# Create the plot \n",
    "plt.figure(figsize=(8, 6)) \n",
    "sns.kdeplot(\n",
    "data=iris_df, x=x_feature, y=y_feature,\n",
    "fill=True, # To fill the contour \n",
    "cmap='viridis', # Color map \n",
    "levels=30, # Number of contour levels \n",
    "thresh=0.1, # Threshold for density\n",
    ")\n",
    "\n",
    "\n",
    "plt.title('Bivariate Distribution of Sepal Length and Width') \n",
    "plt.xlabel(x_feature)\n",
    "plt.ylabel(y_feature) \n",
    "plt.show()"
   ]
  }
 ],
 "metadata": {
  "kernelspec": {
   "display_name": "venv",
   "language": "python",
   "name": "python3"
  },
  "language_info": {
   "codemirror_mode": {
    "name": "ipython",
    "version": 3
   },
   "file_extension": ".py",
   "mimetype": "text/x-python",
   "name": "python",
   "nbconvert_exporter": "python",
   "pygments_lexer": "ipython3",
   "version": "3.12.3"
  }
 },
 "nbformat": 4,
 "nbformat_minor": 5
}
